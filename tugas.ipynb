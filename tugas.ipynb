{
 "cells": [
  {
   "cell_type": "code",
   "execution_count": 40,
   "metadata": {},
   "outputs": [],
   "source": [
    "#no 1\n",
    "import pandas as pd\n",
    "\n",
    "df_excel = pd.read_excel('tugas.xlsx', sheet_name='data')\n",
    "\n",
    "df_excel.to_csv('nomer1.csv', index=False)  \n",
    "df_excel.to_excel('nomer1.xlsx', index=False)\n",
    "\n"
   ]
  },
  {
   "cell_type": "code",
   "execution_count": 90,
   "metadata": {},
   "outputs": [
    {
     "name": "stdout",
     "output_type": "stream",
     "text": [
      "Total produksi sampah di seluruh Kabupaten/Kota di Jawa Barat untuk tahun 2015: 20969.27 ton\n"
     ]
    }
   ],
   "source": [
    "#no2\n",
    "import pandas as pd\n",
    "\n",
    "df_excel = pd.read_excel('tugas.xlsx', sheet_name='data')\n",
    "\n",
    "tahun_tertentu = 2015\n",
    "jumlah_sampah = 0\n",
    "\n",
    "\n",
    "for i, j in df_excel.iterrows():\n",
    "    if j[\"tahun\"] == tahun_tertentu:  \n",
    "        jumlah_sampah += j[\"jumlah_produksi_sampah\"]  \n",
    "\n",
    "df_hasil = pd.DataFrame({\n",
    "    'Tahun': [tahun_tertentu],\n",
    "    'Total Produksi Sampah (Ton)': [jumlah_sampah]\n",
    "})\n",
    "\n",
    "df_hasil.to_csv('nomer2.csv', index=False)\n",
    "df_hasil.to_excel('nomer2.xlsx', index=False)\n",
    "\n",
    "\n",
    "print(f\"Total produksi sampah di seluruh Kabupaten/Kota di Jawa Barat untuk tahun {tahun_tertentu}: {jumlah_sampah:.2f} ton\")\n"
   ]
  },
  {
   "cell_type": "code",
   "execution_count": 92,
   "metadata": {},
   "outputs": [
    {
     "name": "stdout",
     "output_type": "stream",
     "text": [
      "Total produksi sampah per tahun:\n",
      "   Tahun  Total Produksi Sampah (Ton)\n",
      "0   2015                     20969.27\n",
      "1   2016                     20969.27\n",
      "2   2017                     20969.27\n",
      "3   2018                     22772.92\n",
      "4   2019                     24490.56\n",
      "5   2020                     25333.00\n",
      "6   2021                     15735.36\n",
      "7   2022                          NaN\n",
      "8   2023                          NaN\n"
     ]
    }
   ],
   "source": [
    "# no3\n",
    "import pandas as pd\n",
    "\n",
    "df_excel = pd.read_excel('tugas.xlsx', sheet_name='data')\n",
    "\n",
    "total_per_tahun = {}\n",
    "\n",
    "for _, row in df_excel.iterrows():\n",
    "    tahun = row[\"tahun\"]\n",
    "    produksi_sampah = row[\"jumlah_produksi_sampah\"]\n",
    "    \n",
    "    if tahun in total_per_tahun:\n",
    "        total_per_tahun[tahun] += produksi_sampah\n",
    "    else:\n",
    "        total_per_tahun[tahun] = produksi_sampah\n",
    "\n",
    "df_total_per_tahun = pd.DataFrame(list(total_per_tahun.items()), columns=[\"Tahun\", \"Total Produksi Sampah (Ton)\"])\n",
    "\n",
    "print(\"Total produksi sampah per tahun:\")\n",
    "print(df_total_per_tahun)\n",
    "\n",
    "df_total_per_tahun.to_csv('nomer3.csv', index=False)\n",
    "df_total_per_tahun.to_excel('nomer3.xlsx', index=False)\n"
   ]
  },
  {
   "cell_type": "code",
   "execution_count": 94,
   "metadata": {},
   "outputs": [
    {
     "name": "stdout",
     "output_type": "stream",
     "text": [
      "Total produksi sampah per Kota/Kabupaten per Tahun:\n",
      "     Total Produksi Sampah (Ton)  Tahun      Kota/Kabupaten\n",
      "0                        1511.15   2015     KABUPATEN BOGOR\n",
      "1                         419.01   2015  KABUPATEN SUKABUMI\n",
      "2                         981.41   2015   KABUPATEN CIANJUR\n",
      "3                        1895.94   2015   KABUPATEN BANDUNG\n",
      "4                         464.74   2015     KABUPATEN GARUT\n",
      "..                           ...    ...                 ...\n",
      "238                          NaN   2023         KOTA BEKASI\n",
      "239                          NaN   2023          KOTA DEPOK\n",
      "240                          NaN   2023         KOTA CIMAHI\n",
      "241                          NaN   2023    KOTA TASIKMALAYA\n",
      "242                          NaN   2023         KOTA BANJAR\n",
      "\n",
      "[243 rows x 3 columns]\n"
     ]
    }
   ],
   "source": [
    "#no 4\n",
    "import pandas as pd\n",
    "df_excel = pd.read_excel('tugas.xlsx', sheet_name='data')\n",
    "\n",
    "total_per_kota_tahun = {}\n",
    "\n",
    "for _, row in df_excel.iterrows():\n",
    "    tahun = row[\"tahun\"]\n",
    "    kota = row[\"nama_kabupaten_kota\"]\n",
    "    produksi_sampah = row[\"jumlah_produksi_sampah\"]\n",
    "    \n",
    "    key = (tahun, kota)\n",
    "    \n",
    "    if key in total_per_kota_tahun:\n",
    "        total_per_kota_tahun[key] += produksi_sampah\n",
    "    else:\n",
    "        total_per_kota_tahun[key] = produksi_sampah\n",
    "\n",
    "df_total_per_kota_tahun = pd.DataFrame(\n",
    "    list(total_per_kota_tahun.items()),\n",
    "    columns=[\"(Tahun, Kota/Kabupaten)\", \"Total Produksi Sampah (Ton)\"]\n",
    ")\n",
    "\n",
    "df_total_per_kota_tahun[[\"Tahun\", \"Kota/Kabupaten\"]] = pd.DataFrame(df_total_per_kota_tahun[\"(Tahun, Kota/Kabupaten)\"].tolist(), index=df_total_per_kota_tahun.index)\n",
    "df_total_per_kota_tahun = df_total_per_kota_tahun.drop(columns=[\"(Tahun, Kota/Kabupaten)\"])\n",
    "\n",
    "df_total_per_kota_tahun.to_csv('no4.csv', index=False)\n",
    "df_total_per_kota_tahun.to_excel('no4.xlsx', index=False)\n",
    "\n",
    "print(\"Total produksi sampah per Kota/Kabupaten per Tahun:\")\n",
    "print(df_total_per_kota_tahun)\n"
   ]
  }
 ],
 "metadata": {
  "kernelspec": {
   "display_name": "Python 3",
   "language": "python",
   "name": "python3"
  },
  "language_info": {
   "codemirror_mode": {
    "name": "ipython",
    "version": 3
   },
   "file_extension": ".py",
   "mimetype": "text/x-python",
   "name": "python",
   "nbconvert_exporter": "python",
   "pygments_lexer": "ipython3",
   "version": "3.11.0"
  },
  "orig_nbformat": 4
 },
 "nbformat": 4,
 "nbformat_minor": 2
}
